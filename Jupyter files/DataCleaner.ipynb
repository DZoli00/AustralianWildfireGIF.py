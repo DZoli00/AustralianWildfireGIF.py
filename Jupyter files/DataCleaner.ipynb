{
 "metadata": {
  "language_info": {
   "codemirror_mode": {
    "name": "ipython",
    "version": 3
   },
   "file_extension": ".py",
   "mimetype": "text/x-python",
   "name": "python",
   "nbconvert_exporter": "python",
   "pygments_lexer": "ipython3",
   "version": "3.7.6-final"
  },
  "orig_nbformat": 2,
  "kernelspec": {
   "name": "python3",
   "display_name": "Python 3"
  }
 },
 "nbformat": 4,
 "nbformat_minor": 2,
 "cells": [
  {
   "cell_type": "code",
   "execution_count": 90,
   "metadata": {},
   "outputs": [],
   "source": [
    "import pandas as pd"
   ]
  },
  {
   "cell_type": "code",
   "execution_count": 91,
   "metadata": {},
   "outputs": [],
   "source": [
    "df = pd.read_csv(\"fire_archive_M6_96619.csv\")"
   ]
  },
  {
   "cell_type": "code",
   "execution_count": 92,
   "metadata": {},
   "outputs": [
    {
     "output_type": "execute_result",
     "data": {
      "text/plain": "   latitude  longitude  brightness  scan  track    acq_date  acq_time  \\\n0  -11.8070   142.0583       313.0   1.0    1.0  2019-08-01        56   \n1  -11.7924   142.0850       319.3   1.0    1.0  2019-08-01        56   \n2  -12.8398   132.8744       311.6   3.1    1.7  2019-08-01        57   \n3  -14.4306   143.3035       310.1   1.1    1.1  2019-08-01        57   \n4  -12.4953   131.4897       310.3   4.0    1.9  2019-08-01        57   \n\n  satellite instrument  confidence  version  bright_t31   frp daynight  type  \n0     Terra      MODIS          48      6.3       297.3   6.6        D     0  \n1     Terra      MODIS          71      6.3       297.3  11.3        D     0  \n2     Terra      MODIS          42      6.3       298.7  23.1        D     0  \n3     Terra      MODIS          33      6.3       296.1   6.5        D     0  \n4     Terra      MODIS          36      6.3       298.8  27.6        D     0  ",
      "text/html": "<div>\n<style scoped>\n    .dataframe tbody tr th:only-of-type {\n        vertical-align: middle;\n    }\n\n    .dataframe tbody tr th {\n        vertical-align: top;\n    }\n\n    .dataframe thead th {\n        text-align: right;\n    }\n</style>\n<table border=\"1\" class=\"dataframe\">\n  <thead>\n    <tr style=\"text-align: right;\">\n      <th></th>\n      <th>latitude</th>\n      <th>longitude</th>\n      <th>brightness</th>\n      <th>scan</th>\n      <th>track</th>\n      <th>acq_date</th>\n      <th>acq_time</th>\n      <th>satellite</th>\n      <th>instrument</th>\n      <th>confidence</th>\n      <th>version</th>\n      <th>bright_t31</th>\n      <th>frp</th>\n      <th>daynight</th>\n      <th>type</th>\n    </tr>\n  </thead>\n  <tbody>\n    <tr>\n      <th>0</th>\n      <td>-11.8070</td>\n      <td>142.0583</td>\n      <td>313.0</td>\n      <td>1.0</td>\n      <td>1.0</td>\n      <td>2019-08-01</td>\n      <td>56</td>\n      <td>Terra</td>\n      <td>MODIS</td>\n      <td>48</td>\n      <td>6.3</td>\n      <td>297.3</td>\n      <td>6.6</td>\n      <td>D</td>\n      <td>0</td>\n    </tr>\n    <tr>\n      <th>1</th>\n      <td>-11.7924</td>\n      <td>142.0850</td>\n      <td>319.3</td>\n      <td>1.0</td>\n      <td>1.0</td>\n      <td>2019-08-01</td>\n      <td>56</td>\n      <td>Terra</td>\n      <td>MODIS</td>\n      <td>71</td>\n      <td>6.3</td>\n      <td>297.3</td>\n      <td>11.3</td>\n      <td>D</td>\n      <td>0</td>\n    </tr>\n    <tr>\n      <th>2</th>\n      <td>-12.8398</td>\n      <td>132.8744</td>\n      <td>311.6</td>\n      <td>3.1</td>\n      <td>1.7</td>\n      <td>2019-08-01</td>\n      <td>57</td>\n      <td>Terra</td>\n      <td>MODIS</td>\n      <td>42</td>\n      <td>6.3</td>\n      <td>298.7</td>\n      <td>23.1</td>\n      <td>D</td>\n      <td>0</td>\n    </tr>\n    <tr>\n      <th>3</th>\n      <td>-14.4306</td>\n      <td>143.3035</td>\n      <td>310.1</td>\n      <td>1.1</td>\n      <td>1.1</td>\n      <td>2019-08-01</td>\n      <td>57</td>\n      <td>Terra</td>\n      <td>MODIS</td>\n      <td>33</td>\n      <td>6.3</td>\n      <td>296.1</td>\n      <td>6.5</td>\n      <td>D</td>\n      <td>0</td>\n    </tr>\n    <tr>\n      <th>4</th>\n      <td>-12.4953</td>\n      <td>131.4897</td>\n      <td>310.3</td>\n      <td>4.0</td>\n      <td>1.9</td>\n      <td>2019-08-01</td>\n      <td>57</td>\n      <td>Terra</td>\n      <td>MODIS</td>\n      <td>36</td>\n      <td>6.3</td>\n      <td>298.8</td>\n      <td>27.6</td>\n      <td>D</td>\n      <td>0</td>\n    </tr>\n  </tbody>\n</table>\n</div>"
     },
     "metadata": {},
     "execution_count": 92
    }
   ],
   "source": [
    "df.head(5)"
   ]
  },
  {
   "cell_type": "code",
   "execution_count": 93,
   "metadata": {},
   "outputs": [
    {
     "output_type": "execute_result",
     "data": {
      "text/plain": "Index(['latitude', 'longitude', 'brightness', 'scan', 'track', 'acq_date',\n       'acq_time', 'satellite', 'instrument', 'confidence', 'version',\n       'bright_t31', 'frp', 'daynight', 'type'],\n      dtype='object')"
     },
     "metadata": {},
     "execution_count": 93
    }
   ],
   "source": [
    "df.columns"
   ]
  },
  {
   "cell_type": "code",
   "execution_count": 94,
   "metadata": {},
   "outputs": [
    {
     "output_type": "execute_result",
     "data": {
      "text/plain": "       latitude  longitude  brightness  scan  track    acq_date  acq_time  \\\n0      -11.8070   142.0583       313.0   1.0    1.0  2019-08-01        56   \n1      -11.7924   142.0850       319.3   1.0    1.0  2019-08-01        56   \n2      -12.8398   132.8744       311.6   3.1    1.7  2019-08-01        57   \n3      -14.4306   143.3035       310.1   1.1    1.1  2019-08-01        57   \n4      -12.4953   131.4897       310.3   4.0    1.9  2019-08-01        57   \n...         ...        ...         ...   ...    ...         ...       ...   \n36006  -28.0656   131.6334       312.7   1.2    1.1  2019-09-30      1644   \n36007  -28.2625   128.5494       304.9   1.0    1.0  2019-09-30      1644   \n36008  -28.2941   128.5123       301.7   1.0    1.0  2019-09-30      1644   \n36009  -28.3001   128.5530       303.6   1.0    1.0  2019-09-30      1644   \n36010  -30.8641   121.4995       309.1   1.8    1.3  2019-09-30      1645   \n\n      satellite instrument  confidence  version  bright_t31   frp daynight  \\\n0         Terra      MODIS          48      6.3       297.3   6.6        D   \n1         Terra      MODIS          71      6.3       297.3  11.3        D   \n2         Terra      MODIS          42      6.3       298.7  23.1        D   \n3         Terra      MODIS          33      6.3       296.1   6.5        D   \n4         Terra      MODIS          36      6.3       298.8  27.6        D   \n...         ...        ...         ...      ...         ...   ...      ...   \n36006      Aqua      MODIS          85      6.3       292.9  14.2        N   \n36007      Aqua      MODIS          27      6.3       290.9   6.4        N   \n36008      Aqua      MODIS          43      6.3       290.4   5.5        N   \n36009      Aqua      MODIS          41      6.3       290.3   5.7        N   \n36010      Aqua      MODIS          77      6.3       290.9  23.0        N   \n\n       type  \n0         0  \n1         0  \n2         0  \n3         0  \n4         0  \n...     ...  \n36006     0  \n36007     0  \n36008     0  \n36009     0  \n36010     2  \n\n[36011 rows x 15 columns]",
      "text/html": "<div>\n<style scoped>\n    .dataframe tbody tr th:only-of-type {\n        vertical-align: middle;\n    }\n\n    .dataframe tbody tr th {\n        vertical-align: top;\n    }\n\n    .dataframe thead th {\n        text-align: right;\n    }\n</style>\n<table border=\"1\" class=\"dataframe\">\n  <thead>\n    <tr style=\"text-align: right;\">\n      <th></th>\n      <th>latitude</th>\n      <th>longitude</th>\n      <th>brightness</th>\n      <th>scan</th>\n      <th>track</th>\n      <th>acq_date</th>\n      <th>acq_time</th>\n      <th>satellite</th>\n      <th>instrument</th>\n      <th>confidence</th>\n      <th>version</th>\n      <th>bright_t31</th>\n      <th>frp</th>\n      <th>daynight</th>\n      <th>type</th>\n    </tr>\n  </thead>\n  <tbody>\n    <tr>\n      <th>0</th>\n      <td>-11.8070</td>\n      <td>142.0583</td>\n      <td>313.0</td>\n      <td>1.0</td>\n      <td>1.0</td>\n      <td>2019-08-01</td>\n      <td>56</td>\n      <td>Terra</td>\n      <td>MODIS</td>\n      <td>48</td>\n      <td>6.3</td>\n      <td>297.3</td>\n      <td>6.6</td>\n      <td>D</td>\n      <td>0</td>\n    </tr>\n    <tr>\n      <th>1</th>\n      <td>-11.7924</td>\n      <td>142.0850</td>\n      <td>319.3</td>\n      <td>1.0</td>\n      <td>1.0</td>\n      <td>2019-08-01</td>\n      <td>56</td>\n      <td>Terra</td>\n      <td>MODIS</td>\n      <td>71</td>\n      <td>6.3</td>\n      <td>297.3</td>\n      <td>11.3</td>\n      <td>D</td>\n      <td>0</td>\n    </tr>\n    <tr>\n      <th>2</th>\n      <td>-12.8398</td>\n      <td>132.8744</td>\n      <td>311.6</td>\n      <td>3.1</td>\n      <td>1.7</td>\n      <td>2019-08-01</td>\n      <td>57</td>\n      <td>Terra</td>\n      <td>MODIS</td>\n      <td>42</td>\n      <td>6.3</td>\n      <td>298.7</td>\n      <td>23.1</td>\n      <td>D</td>\n      <td>0</td>\n    </tr>\n    <tr>\n      <th>3</th>\n      <td>-14.4306</td>\n      <td>143.3035</td>\n      <td>310.1</td>\n      <td>1.1</td>\n      <td>1.1</td>\n      <td>2019-08-01</td>\n      <td>57</td>\n      <td>Terra</td>\n      <td>MODIS</td>\n      <td>33</td>\n      <td>6.3</td>\n      <td>296.1</td>\n      <td>6.5</td>\n      <td>D</td>\n      <td>0</td>\n    </tr>\n    <tr>\n      <th>4</th>\n      <td>-12.4953</td>\n      <td>131.4897</td>\n      <td>310.3</td>\n      <td>4.0</td>\n      <td>1.9</td>\n      <td>2019-08-01</td>\n      <td>57</td>\n      <td>Terra</td>\n      <td>MODIS</td>\n      <td>36</td>\n      <td>6.3</td>\n      <td>298.8</td>\n      <td>27.6</td>\n      <td>D</td>\n      <td>0</td>\n    </tr>\n    <tr>\n      <th>...</th>\n      <td>...</td>\n      <td>...</td>\n      <td>...</td>\n      <td>...</td>\n      <td>...</td>\n      <td>...</td>\n      <td>...</td>\n      <td>...</td>\n      <td>...</td>\n      <td>...</td>\n      <td>...</td>\n      <td>...</td>\n      <td>...</td>\n      <td>...</td>\n      <td>...</td>\n    </tr>\n    <tr>\n      <th>36006</th>\n      <td>-28.0656</td>\n      <td>131.6334</td>\n      <td>312.7</td>\n      <td>1.2</td>\n      <td>1.1</td>\n      <td>2019-09-30</td>\n      <td>1644</td>\n      <td>Aqua</td>\n      <td>MODIS</td>\n      <td>85</td>\n      <td>6.3</td>\n      <td>292.9</td>\n      <td>14.2</td>\n      <td>N</td>\n      <td>0</td>\n    </tr>\n    <tr>\n      <th>36007</th>\n      <td>-28.2625</td>\n      <td>128.5494</td>\n      <td>304.9</td>\n      <td>1.0</td>\n      <td>1.0</td>\n      <td>2019-09-30</td>\n      <td>1644</td>\n      <td>Aqua</td>\n      <td>MODIS</td>\n      <td>27</td>\n      <td>6.3</td>\n      <td>290.9</td>\n      <td>6.4</td>\n      <td>N</td>\n      <td>0</td>\n    </tr>\n    <tr>\n      <th>36008</th>\n      <td>-28.2941</td>\n      <td>128.5123</td>\n      <td>301.7</td>\n      <td>1.0</td>\n      <td>1.0</td>\n      <td>2019-09-30</td>\n      <td>1644</td>\n      <td>Aqua</td>\n      <td>MODIS</td>\n      <td>43</td>\n      <td>6.3</td>\n      <td>290.4</td>\n      <td>5.5</td>\n      <td>N</td>\n      <td>0</td>\n    </tr>\n    <tr>\n      <th>36009</th>\n      <td>-28.3001</td>\n      <td>128.5530</td>\n      <td>303.6</td>\n      <td>1.0</td>\n      <td>1.0</td>\n      <td>2019-09-30</td>\n      <td>1644</td>\n      <td>Aqua</td>\n      <td>MODIS</td>\n      <td>41</td>\n      <td>6.3</td>\n      <td>290.3</td>\n      <td>5.7</td>\n      <td>N</td>\n      <td>0</td>\n    </tr>\n    <tr>\n      <th>36010</th>\n      <td>-30.8641</td>\n      <td>121.4995</td>\n      <td>309.1</td>\n      <td>1.8</td>\n      <td>1.3</td>\n      <td>2019-09-30</td>\n      <td>1645</td>\n      <td>Aqua</td>\n      <td>MODIS</td>\n      <td>77</td>\n      <td>6.3</td>\n      <td>290.9</td>\n      <td>23.0</td>\n      <td>N</td>\n      <td>2</td>\n    </tr>\n  </tbody>\n</table>\n<p>36011 rows × 15 columns</p>\n</div>"
     },
     "metadata": {},
     "execution_count": 94
    }
   ],
   "source": [
    "df"
   ]
  },
  {
   "cell_type": "code",
   "execution_count": 95,
   "metadata": {},
   "outputs": [
    {
     "output_type": "execute_result",
     "data": {
      "text/plain": "       latitude  longitude  brightness  scan  track    acq_date  acq_time  \\\n26724  -12.5668   141.9047       338.7   1.5    1.2  2019-09-13        38   \n14924  -11.9938   134.2829       318.7   1.0    1.0  2019-08-29       121   \n21025  -30.1814   152.4996       326.2   1.1    1.0  2019-09-07      1459   \n21026  -30.1831   152.5105       323.7   1.1    1.0  2019-09-07      1459   \n357    -11.2365   131.8871       314.1   2.8    1.6  2019-08-01       525   \n...         ...        ...         ...   ...    ...         ...       ...   \n27304  -13.0099   130.3622       395.2   1.0    1.0  2019-09-13       506   \n18798  -25.9173   150.8482       339.6   1.0    1.0  2019-09-05      1510   \n4602   -29.3545   152.8274       361.7   1.1    1.0  2019-08-10       335   \n9145   -16.2484   126.0997       372.3   1.1    1.1  2019-08-16      1406   \n22019  -28.9529   152.4014       397.8   1.1    1.0  2019-09-08      1230   \n\n      satellite instrument  confidence  version  bright_t31    frp daynight  \\\n26724     Terra      MODIS           0      6.3       303.9   59.2        D   \n14924     Terra      MODIS           0      6.3       306.0    6.4        D   \n21025      Aqua      MODIS           0      6.3       284.3   25.4        N   \n21026      Aqua      MODIS           0      6.3       284.2   23.3        N   \n357        Aqua      MODIS           0      6.3       299.6   26.8        D   \n...         ...        ...         ...      ...         ...    ...      ...   \n27304      Aqua      MODIS         100      6.3       324.6  224.1        D   \n18798      Aqua      MODIS         100      6.3       297.1   40.8        N   \n4602       Aqua      MODIS         100      6.3       295.5   96.4        D   \n9145      Terra      MODIS         100      6.3       295.8  148.6        N   \n22019     Terra      MODIS         100      6.3       301.4  275.7        N   \n\n       type  \n26724     0  \n14924     0  \n21025     0  \n21026     0  \n357       0  \n...     ...  \n27304     0  \n18798     0  \n4602      0  \n9145      0  \n22019     0  \n\n[36011 rows x 15 columns]",
      "text/html": "<div>\n<style scoped>\n    .dataframe tbody tr th:only-of-type {\n        vertical-align: middle;\n    }\n\n    .dataframe tbody tr th {\n        vertical-align: top;\n    }\n\n    .dataframe thead th {\n        text-align: right;\n    }\n</style>\n<table border=\"1\" class=\"dataframe\">\n  <thead>\n    <tr style=\"text-align: right;\">\n      <th></th>\n      <th>latitude</th>\n      <th>longitude</th>\n      <th>brightness</th>\n      <th>scan</th>\n      <th>track</th>\n      <th>acq_date</th>\n      <th>acq_time</th>\n      <th>satellite</th>\n      <th>instrument</th>\n      <th>confidence</th>\n      <th>version</th>\n      <th>bright_t31</th>\n      <th>frp</th>\n      <th>daynight</th>\n      <th>type</th>\n    </tr>\n  </thead>\n  <tbody>\n    <tr>\n      <th>26724</th>\n      <td>-12.5668</td>\n      <td>141.9047</td>\n      <td>338.7</td>\n      <td>1.5</td>\n      <td>1.2</td>\n      <td>2019-09-13</td>\n      <td>38</td>\n      <td>Terra</td>\n      <td>MODIS</td>\n      <td>0</td>\n      <td>6.3</td>\n      <td>303.9</td>\n      <td>59.2</td>\n      <td>D</td>\n      <td>0</td>\n    </tr>\n    <tr>\n      <th>14924</th>\n      <td>-11.9938</td>\n      <td>134.2829</td>\n      <td>318.7</td>\n      <td>1.0</td>\n      <td>1.0</td>\n      <td>2019-08-29</td>\n      <td>121</td>\n      <td>Terra</td>\n      <td>MODIS</td>\n      <td>0</td>\n      <td>6.3</td>\n      <td>306.0</td>\n      <td>6.4</td>\n      <td>D</td>\n      <td>0</td>\n    </tr>\n    <tr>\n      <th>21025</th>\n      <td>-30.1814</td>\n      <td>152.4996</td>\n      <td>326.2</td>\n      <td>1.1</td>\n      <td>1.0</td>\n      <td>2019-09-07</td>\n      <td>1459</td>\n      <td>Aqua</td>\n      <td>MODIS</td>\n      <td>0</td>\n      <td>6.3</td>\n      <td>284.3</td>\n      <td>25.4</td>\n      <td>N</td>\n      <td>0</td>\n    </tr>\n    <tr>\n      <th>21026</th>\n      <td>-30.1831</td>\n      <td>152.5105</td>\n      <td>323.7</td>\n      <td>1.1</td>\n      <td>1.0</td>\n      <td>2019-09-07</td>\n      <td>1459</td>\n      <td>Aqua</td>\n      <td>MODIS</td>\n      <td>0</td>\n      <td>6.3</td>\n      <td>284.2</td>\n      <td>23.3</td>\n      <td>N</td>\n      <td>0</td>\n    </tr>\n    <tr>\n      <th>357</th>\n      <td>-11.2365</td>\n      <td>131.8871</td>\n      <td>314.1</td>\n      <td>2.8</td>\n      <td>1.6</td>\n      <td>2019-08-01</td>\n      <td>525</td>\n      <td>Aqua</td>\n      <td>MODIS</td>\n      <td>0</td>\n      <td>6.3</td>\n      <td>299.6</td>\n      <td>26.8</td>\n      <td>D</td>\n      <td>0</td>\n    </tr>\n    <tr>\n      <th>...</th>\n      <td>...</td>\n      <td>...</td>\n      <td>...</td>\n      <td>...</td>\n      <td>...</td>\n      <td>...</td>\n      <td>...</td>\n      <td>...</td>\n      <td>...</td>\n      <td>...</td>\n      <td>...</td>\n      <td>...</td>\n      <td>...</td>\n      <td>...</td>\n      <td>...</td>\n    </tr>\n    <tr>\n      <th>27304</th>\n      <td>-13.0099</td>\n      <td>130.3622</td>\n      <td>395.2</td>\n      <td>1.0</td>\n      <td>1.0</td>\n      <td>2019-09-13</td>\n      <td>506</td>\n      <td>Aqua</td>\n      <td>MODIS</td>\n      <td>100</td>\n      <td>6.3</td>\n      <td>324.6</td>\n      <td>224.1</td>\n      <td>D</td>\n      <td>0</td>\n    </tr>\n    <tr>\n      <th>18798</th>\n      <td>-25.9173</td>\n      <td>150.8482</td>\n      <td>339.6</td>\n      <td>1.0</td>\n      <td>1.0</td>\n      <td>2019-09-05</td>\n      <td>1510</td>\n      <td>Aqua</td>\n      <td>MODIS</td>\n      <td>100</td>\n      <td>6.3</td>\n      <td>297.1</td>\n      <td>40.8</td>\n      <td>N</td>\n      <td>0</td>\n    </tr>\n    <tr>\n      <th>4602</th>\n      <td>-29.3545</td>\n      <td>152.8274</td>\n      <td>361.7</td>\n      <td>1.1</td>\n      <td>1.0</td>\n      <td>2019-08-10</td>\n      <td>335</td>\n      <td>Aqua</td>\n      <td>MODIS</td>\n      <td>100</td>\n      <td>6.3</td>\n      <td>295.5</td>\n      <td>96.4</td>\n      <td>D</td>\n      <td>0</td>\n    </tr>\n    <tr>\n      <th>9145</th>\n      <td>-16.2484</td>\n      <td>126.0997</td>\n      <td>372.3</td>\n      <td>1.1</td>\n      <td>1.1</td>\n      <td>2019-08-16</td>\n      <td>1406</td>\n      <td>Terra</td>\n      <td>MODIS</td>\n      <td>100</td>\n      <td>6.3</td>\n      <td>295.8</td>\n      <td>148.6</td>\n      <td>N</td>\n      <td>0</td>\n    </tr>\n    <tr>\n      <th>22019</th>\n      <td>-28.9529</td>\n      <td>152.4014</td>\n      <td>397.8</td>\n      <td>1.1</td>\n      <td>1.0</td>\n      <td>2019-09-08</td>\n      <td>1230</td>\n      <td>Terra</td>\n      <td>MODIS</td>\n      <td>100</td>\n      <td>6.3</td>\n      <td>301.4</td>\n      <td>275.7</td>\n      <td>N</td>\n      <td>0</td>\n    </tr>\n  </tbody>\n</table>\n<p>36011 rows × 15 columns</p>\n</div>"
     },
     "metadata": {},
     "execution_count": 95
    }
   ],
   "source": [
    "df.sort_values(['confidence'])"
   ]
  },
  {
   "cell_type": "code",
   "execution_count": 96,
   "metadata": {},
   "outputs": [],
   "source": [
    "df = df.drop(columns=['scan','track','satellite','instrument','version','daynight','type','bright_t31'])"
   ]
  },
  {
   "cell_type": "code",
   "execution_count": 97,
   "metadata": {
    "tags": []
   },
   "outputs": [
    {
     "output_type": "stream",
     "name": "stdout",
     "text": "latitude  longitude  brightness    acq_date  acq_time  confidence   frp\n0  -11.8070   142.0583       313.0  2019-08-01        56          48   6.6\n1  -11.7924   142.0850       319.3  2019-08-01        56          71  11.3\n2  -12.8398   132.8744       311.6  2019-08-01        57          42  23.1\n3  -14.4306   143.3035       310.1  2019-08-01        57          33   6.5\n4  -12.4953   131.4897       310.3  2019-08-01        57          36  27.6\n"
    }
   ],
   "source": [
    "print(df.head(5))"
   ]
  },
  {
   "cell_type": "code",
   "execution_count": 98,
   "metadata": {
    "tags": []
   },
   "outputs": [],
   "source": [
    "df = df.sort_values(['confidence'])\n"
   ]
  },
  {
   "cell_type": "code",
   "execution_count": 99,
   "metadata": {
    "tags": []
   },
   "outputs": [
    {
     "output_type": "stream",
     "name": "stdout",
     "text": "latitude  longitude  brightness    acq_date  acq_time  confidence  \\\n26724  -12.5668   141.9047       338.7  2019-09-13        38           0   \n14924  -11.9938   134.2829       318.7  2019-08-29       121           0   \n21025  -30.1814   152.4996       326.2  2019-09-07      1459           0   \n21026  -30.1831   152.5105       323.7  2019-09-07      1459           0   \n357    -11.2365   131.8871       314.1  2019-08-01       525           0   \n...         ...        ...         ...         ...       ...         ...   \n27304  -13.0099   130.3622       395.2  2019-09-13       506         100   \n18798  -25.9173   150.8482       339.6  2019-09-05      1510         100   \n4602   -29.3545   152.8274       361.7  2019-08-10       335         100   \n9145   -16.2484   126.0997       372.3  2019-08-16      1406         100   \n22019  -28.9529   152.4014       397.8  2019-09-08      1230         100   \n\n         frp  \n26724   59.2  \n14924    6.4  \n21025   25.4  \n21026   23.3  \n357     26.8  \n...      ...  \n27304  224.1  \n18798   40.8  \n4602    96.4  \n9145   148.6  \n22019  275.7  \n\n[36011 rows x 7 columns]\n"
    }
   ],
   "source": [
    "print(df)"
   ]
  },
  {
   "cell_type": "code",
   "execution_count": 100,
   "metadata": {
    "tags": []
   },
   "outputs": [
    {
     "output_type": "stream",
     "name": "stdout",
     "text": "latitude  longitude  brightness    acq_date  acq_time  confidence   frp\n26724  -12.5668   141.9047       338.7  2019-09-13        38           0  59.2\n14924  -11.9938   134.2829       318.7  2019-08-29       121           0   6.4\n21025  -30.1814   152.4996       326.2  2019-09-07      1459           0  25.4\n21026  -30.1831   152.5105       323.7  2019-09-07      1459           0  23.3\n357    -11.2365   131.8871       314.1  2019-08-01       525           0  26.8\n"
    }
   ],
   "source": [
    "print(df.head())"
   ]
  },
  {
   "cell_type": "code",
   "execution_count": 101,
   "metadata": {},
   "outputs": [],
   "source": [
    "df = df.loc[df['confidence'] > 50]"
   ]
  },
  {
   "cell_type": "code",
   "execution_count": 102,
   "metadata": {
    "tags": []
   },
   "outputs": [
    {
     "output_type": "stream",
     "name": "stdout",
     "text": "latitude  longitude  brightness    acq_date  acq_time  confidence   frp\n3854   -29.9149   152.8576       309.6  2019-08-08      1447          51  17.5\n16463  -14.8777   142.1988       324.8  2019-09-01       441          51  30.7\n31834  -11.6070   133.0207       321.6  2019-09-21       127          51   9.1\n24825  -14.4184   126.8204       308.3  2019-09-10      1704          51   9.3\n11110  -15.6378   130.6621       308.0  2019-08-20      1342          51  10.7\n"
    }
   ],
   "source": [
    "print(df.head())"
   ]
  },
  {
   "cell_type": "code",
   "execution_count": 103,
   "metadata": {
    "tags": []
   },
   "outputs": [
    {
     "output_type": "stream",
     "name": "stdout",
     "text": "latitude  longitude  brightness    acq_date  acq_time  confidence  \\\n3854   -29.9149   152.8576       309.6  2019-08-08      1447          51   \n16463  -14.8777   142.1988       324.8  2019-09-01       441          51   \n31834  -11.6070   133.0207       321.6  2019-09-21       127          51   \n24825  -14.4184   126.8204       308.3  2019-09-10      1704          51   \n11110  -15.6378   130.6621       308.0  2019-08-20      1342          51   \n...         ...        ...         ...         ...       ...         ...   \n27304  -13.0099   130.3622       395.2  2019-09-13       506         100   \n18798  -25.9173   150.8482       339.6  2019-09-05      1510         100   \n4602   -29.3545   152.8274       361.7  2019-08-10       335         100   \n9145   -16.2484   126.0997       372.3  2019-08-16      1406         100   \n22019  -28.9529   152.4014       397.8  2019-09-08      1230         100   \n\n         frp  \n3854    17.5  \n16463   30.7  \n31834    9.1  \n24825    9.3  \n11110   10.7  \n...      ...  \n27304  224.1  \n18798   40.8  \n4602    96.4  \n9145   148.6  \n22019  275.7  \n\n[27608 rows x 7 columns]\n"
    }
   ],
   "source": [
    "print(df)"
   ]
  },
  {
   "cell_type": "code",
   "execution_count": 105,
   "metadata": {
    "tags": []
   },
   "outputs": [],
   "source": []
  },
  {
   "cell_type": "code",
   "execution_count": null,
   "metadata": {},
   "outputs": [],
   "source": []
  }
 ]
}